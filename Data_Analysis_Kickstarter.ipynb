{
  "nbformat": 4,
  "nbformat_minor": 0,
  "metadata": {
    "colab": {
      "name": "FTMLE_Data Analysis Demo Project.ipynb",
      "provenance": [],
      "collapsed_sections": [],
      "include_colab_link": true
    },
    "kernelspec": {
      "name": "python3",
      "display_name": "Python 3"
    }
  },
  "cells": [
    {
      "cell_type": "markdown",
      "metadata": {
        "id": "view-in-github",
        "colab_type": "text"
      },
      "source": [
        "<a href=\"https://colab.research.google.com/github/Trantracy/Kickstarter-projects-/blob/master/Data_Analysis_Kickstarter.ipynb\" target=\"_parent\"><img src=\"https://colab.research.google.com/assets/colab-badge.svg\" alt=\"Open In Colab\"/></a>"
      ]
    },
    {
      "cell_type": "markdown",
      "metadata": {
        "id": "3oCfVuwzAf_S",
        "colab_type": "text"
      },
      "source": [
        "# Example - Kickstarter projects dataset"
      ]
    },
    {
      "cell_type": "code",
      "metadata": {
        "id": "HdS84dJ29psT",
        "colab_type": "code",
        "colab": {}
      },
      "source": [
        "# Import libaries\n",
        "import pandas as pd\n",
        "import numpy as np\n",
        "import matplotlib.pyplot as plt\n",
        "import seaborn as sns\n",
        "\n",
        "import warnings\n",
        "warnings.filterwarnings('ignore')"
      ],
      "execution_count": 0,
      "outputs": []
    },
    {
      "cell_type": "code",
      "metadata": {
        "id": "XBql5tru-AMV",
        "colab_type": "code",
        "outputId": "c2d0b8f6-b8b1-4fa3-b53b-f9a14d7620fe",
        "colab": {
          "base_uri": "https://localhost:8080/",
          "height": 122
        }
      },
      "source": [
        "# Connect to Google Drive\n",
        "from google.colab import drive\n",
        "drive.mount('/content/drive')"
      ],
      "execution_count": 0,
      "outputs": [
        {
          "output_type": "stream",
          "text": [
            "Go to this URL in a browser: https://accounts.google.com/o/oauth2/auth?client_id=947318989803-6bn6qk8qdgf4n4g3pfee6491hc0brc4i.apps.googleusercontent.com&redirect_uri=urn%3aietf%3awg%3aoauth%3a2.0%3aoob&response_type=code&scope=email%20https%3a%2f%2fwww.googleapis.com%2fauth%2fdocs.test%20https%3a%2f%2fwww.googleapis.com%2fauth%2fdrive%20https%3a%2f%2fwww.googleapis.com%2fauth%2fdrive.photos.readonly%20https%3a%2f%2fwww.googleapis.com%2fauth%2fpeopleapi.readonly\n",
            "\n",
            "Enter your authorization code:\n",
            "··········\n",
            "Mounted at /content/drive\n"
          ],
          "name": "stdout"
        }
      ]
    },
    {
      "cell_type": "code",
      "metadata": {
        "id": "kAGXw_v2-Wjg",
        "colab_type": "code",
        "colab": {}
      },
      "source": [
        "# Read the data\n",
        "data = pd.read_csv('/content/drive/My Drive/Student Files/FTMLE - Tonga/Data/ks-projects-201801.csv')"
      ],
      "execution_count": 0,
      "outputs": []
    },
    {
      "cell_type": "markdown",
      "metadata": {
        "id": "yWaQTVesAtof",
        "colab_type": "text"
      },
      "source": [
        "## Step 1: Exploration Ideas\n",
        "Audience: Project owners who are considering to use Kickstarter\n",
        "\n",
        "Big Question: \n",
        "- What are the most lucrative categories on Kickstarter?\n",
        "- What factors need to be considered to have a successful project?\n"
      ]
    },
    {
      "cell_type": "code",
      "metadata": {
        "id": "jQVZr6iyU5AV",
        "colab_type": "code",
        "outputId": "fbec77f0-b414-4499-d9ab-63c5018425b0",
        "colab": {
          "base_uri": "https://localhost:8080/",
          "height": 124
        }
      },
      "source": [
        "from google.colab import drive\n",
        "drive.mount('/content/drive')"
      ],
      "execution_count": 0,
      "outputs": [
        {
          "output_type": "stream",
          "text": [
            "Go to this URL in a browser: https://accounts.google.com/o/oauth2/auth?client_id=947318989803-6bn6qk8qdgf4n4g3pfee6491hc0brc4i.apps.googleusercontent.com&redirect_uri=urn%3aietf%3awg%3aoauth%3a2.0%3aoob&response_type=code&scope=email%20https%3a%2f%2fwww.googleapis.com%2fauth%2fdocs.test%20https%3a%2f%2fwww.googleapis.com%2fauth%2fdrive%20https%3a%2f%2fwww.googleapis.com%2fauth%2fdrive.photos.readonly%20https%3a%2f%2fwww.googleapis.com%2fauth%2fpeopleapi.readonly\n",
            "\n",
            "Enter your authorization code:\n",
            "··········\n",
            "Mounted at /content/drive\n"
          ],
          "name": "stdout"
        }
      ]
    },
    {
      "cell_type": "markdown",
      "metadata": {
        "id": "oUS7JC44BmWQ",
        "colab_type": "text"
      },
      "source": [
        "### Overview"
      ]
    },
    {
      "cell_type": "code",
      "metadata": {
        "id": "3aH7u6Sd_Qg-",
        "colab_type": "code",
        "outputId": "feb71647-6969-4930-b247-a274574610c6",
        "colab": {
          "base_uri": "https://localhost:8080/",
          "height": 364
        }
      },
      "source": [
        "# Have an overview of the dataset\n",
        "# Your code here\n",
        "data.info()"
      ],
      "execution_count": 0,
      "outputs": [
        {
          "output_type": "stream",
          "text": [
            "<class 'pandas.core.frame.DataFrame'>\n",
            "RangeIndex: 378661 entries, 0 to 378660\n",
            "Data columns (total 15 columns):\n",
            "ID                  378661 non-null int64\n",
            "name                378657 non-null object\n",
            "category            378661 non-null object\n",
            "main_category       378661 non-null object\n",
            "currency            378661 non-null object\n",
            "deadline            378661 non-null object\n",
            "goal                378661 non-null float64\n",
            "launched            378661 non-null object\n",
            "pledged             378661 non-null float64\n",
            "state               378661 non-null object\n",
            "backers             378661 non-null int64\n",
            "country             378661 non-null object\n",
            "usd pledged         374864 non-null float64\n",
            "usd_pledged_real    378661 non-null float64\n",
            "usd_goal_real       378661 non-null float64\n",
            "dtypes: float64(5), int64(2), object(8)\n",
            "memory usage: 43.3+ MB\n"
          ],
          "name": "stdout"
        }
      ]
    },
    {
      "cell_type": "code",
      "metadata": {
        "id": "7Who2UHF_SYa",
        "colab_type": "code",
        "outputId": "5a435c42-1d2d-4b80-a2e1-059b89c85eae",
        "colab": {
          "base_uri": "https://localhost:8080/",
          "height": 895
        }
      },
      "source": [
        "# Show ten random rows\n",
        "# Your code here\n",
        "data.sample(10)"
      ],
      "execution_count": 0,
      "outputs": [
        {
          "output_type": "execute_result",
          "data": {
            "text/html": [
              "<div>\n",
              "<style scoped>\n",
              "    .dataframe tbody tr th:only-of-type {\n",
              "        vertical-align: middle;\n",
              "    }\n",
              "\n",
              "    .dataframe tbody tr th {\n",
              "        vertical-align: top;\n",
              "    }\n",
              "\n",
              "    .dataframe thead th {\n",
              "        text-align: right;\n",
              "    }\n",
              "</style>\n",
              "<table border=\"1\" class=\"dataframe\">\n",
              "  <thead>\n",
              "    <tr style=\"text-align: right;\">\n",
              "      <th></th>\n",
              "      <th>ID</th>\n",
              "      <th>name</th>\n",
              "      <th>category</th>\n",
              "      <th>main_category</th>\n",
              "      <th>currency</th>\n",
              "      <th>deadline</th>\n",
              "      <th>goal</th>\n",
              "      <th>launched</th>\n",
              "      <th>pledged</th>\n",
              "      <th>state</th>\n",
              "      <th>backers</th>\n",
              "      <th>country</th>\n",
              "      <th>usd pledged</th>\n",
              "      <th>usd_pledged_real</th>\n",
              "      <th>usd_goal_real</th>\n",
              "    </tr>\n",
              "  </thead>\n",
              "  <tbody>\n",
              "    <tr>\n",
              "      <th>364957</th>\n",
              "      <td>929396626</td>\n",
              "      <td>persistence of gravity</td>\n",
              "      <td>Narrative Film</td>\n",
              "      <td>Film &amp; Video</td>\n",
              "      <td>USD</td>\n",
              "      <td>2011-05-06</td>\n",
              "      <td>12000.0</td>\n",
              "      <td>2011-04-06 07:21:51</td>\n",
              "      <td>0.0</td>\n",
              "      <td>failed</td>\n",
              "      <td>0</td>\n",
              "      <td>US</td>\n",
              "      <td>0.00</td>\n",
              "      <td>0.00</td>\n",
              "      <td>12000.00</td>\n",
              "    </tr>\n",
              "    <tr>\n",
              "      <th>279140</th>\n",
              "      <td>489835380</td>\n",
              "      <td>Northern Spark 2014: Light up Minneapolis on J...</td>\n",
              "      <td>Public Art</td>\n",
              "      <td>Art</td>\n",
              "      <td>USD</td>\n",
              "      <td>2014-05-09</td>\n",
              "      <td>20000.0</td>\n",
              "      <td>2014-04-08 05:51:51</td>\n",
              "      <td>20790.0</td>\n",
              "      <td>successful</td>\n",
              "      <td>413</td>\n",
              "      <td>US</td>\n",
              "      <td>20790.00</td>\n",
              "      <td>20790.00</td>\n",
              "      <td>20000.00</td>\n",
              "    </tr>\n",
              "    <tr>\n",
              "      <th>148645</th>\n",
              "      <td>1755604739</td>\n",
              "      <td>The Gamer's Notebook Collection</td>\n",
              "      <td>Product Design</td>\n",
              "      <td>Design</td>\n",
              "      <td>AUD</td>\n",
              "      <td>2014-03-03</td>\n",
              "      <td>1000.0</td>\n",
              "      <td>2014-02-19 07:47:48</td>\n",
              "      <td>462.0</td>\n",
              "      <td>failed</td>\n",
              "      <td>16</td>\n",
              "      <td>AU</td>\n",
              "      <td>418.91</td>\n",
              "      <td>421.88</td>\n",
              "      <td>913.16</td>\n",
              "    </tr>\n",
              "    <tr>\n",
              "      <th>345634</th>\n",
              "      <td>830671590</td>\n",
              "      <td>Smonta il televisore e accendi un'idea (Canceled)</td>\n",
              "      <td>Performance Art</td>\n",
              "      <td>Art</td>\n",
              "      <td>EUR</td>\n",
              "      <td>2015-10-16</td>\n",
              "      <td>800.0</td>\n",
              "      <td>2015-09-30 09:01:49</td>\n",
              "      <td>0.0</td>\n",
              "      <td>canceled</td>\n",
              "      <td>0</td>\n",
              "      <td>IT</td>\n",
              "      <td>0.00</td>\n",
              "      <td>0.00</td>\n",
              "      <td>908.80</td>\n",
              "    </tr>\n",
              "    <tr>\n",
              "      <th>53174</th>\n",
              "      <td>1270767076</td>\n",
              "      <td>The Rolling Home book</td>\n",
              "      <td>Publishing</td>\n",
              "      <td>Publishing</td>\n",
              "      <td>GBP</td>\n",
              "      <td>2015-11-28</td>\n",
              "      <td>10000.0</td>\n",
              "      <td>2015-10-29 19:59:27</td>\n",
              "      <td>24721.0</td>\n",
              "      <td>successful</td>\n",
              "      <td>790</td>\n",
              "      <td>GB</td>\n",
              "      <td>37834.64</td>\n",
              "      <td>37426.57</td>\n",
              "      <td>15139.59</td>\n",
              "    </tr>\n",
              "    <tr>\n",
              "      <th>214287</th>\n",
              "      <td>2091889772</td>\n",
              "      <td>Ultimate Destiny DiceBox</td>\n",
              "      <td>Tabletop Games</td>\n",
              "      <td>Games</td>\n",
              "      <td>USD</td>\n",
              "      <td>2017-03-09</td>\n",
              "      <td>1500.0</td>\n",
              "      <td>2017-02-07 19:11:37</td>\n",
              "      <td>105.0</td>\n",
              "      <td>canceled</td>\n",
              "      <td>3</td>\n",
              "      <td>US</td>\n",
              "      <td>145.00</td>\n",
              "      <td>105.00</td>\n",
              "      <td>1500.00</td>\n",
              "    </tr>\n",
              "    <tr>\n",
              "      <th>262914</th>\n",
              "      <td>407102716</td>\n",
              "      <td>Hiking Mount Timpanogos Safely</td>\n",
              "      <td>Publishing</td>\n",
              "      <td>Publishing</td>\n",
              "      <td>USD</td>\n",
              "      <td>2015-04-09</td>\n",
              "      <td>1500.0</td>\n",
              "      <td>2015-03-10 19:13:04</td>\n",
              "      <td>18.0</td>\n",
              "      <td>undefined</td>\n",
              "      <td>0</td>\n",
              "      <td>N,0\"</td>\n",
              "      <td>NaN</td>\n",
              "      <td>18.00</td>\n",
              "      <td>1500.00</td>\n",
              "    </tr>\n",
              "    <tr>\n",
              "      <th>246914</th>\n",
              "      <td>325744857</td>\n",
              "      <td>Love PB: 100 dreams and a film!</td>\n",
              "      <td>Shorts</td>\n",
              "      <td>Film &amp; Video</td>\n",
              "      <td>USD</td>\n",
              "      <td>2011-01-01</td>\n",
              "      <td>4500.0</td>\n",
              "      <td>2010-12-01 20:45:02</td>\n",
              "      <td>35.0</td>\n",
              "      <td>failed</td>\n",
              "      <td>3</td>\n",
              "      <td>US</td>\n",
              "      <td>35.00</td>\n",
              "      <td>35.00</td>\n",
              "      <td>4500.00</td>\n",
              "    </tr>\n",
              "    <tr>\n",
              "      <th>195244</th>\n",
              "      <td>1994209174</td>\n",
              "      <td>EarthPlug - Tiny Yet Mighty Power Saving iPhon...</td>\n",
              "      <td>Product Design</td>\n",
              "      <td>Design</td>\n",
              "      <td>USD</td>\n",
              "      <td>2012-11-23</td>\n",
              "      <td>8000.0</td>\n",
              "      <td>2012-10-09 20:47:58</td>\n",
              "      <td>589.0</td>\n",
              "      <td>failed</td>\n",
              "      <td>62</td>\n",
              "      <td>US</td>\n",
              "      <td>589.00</td>\n",
              "      <td>589.00</td>\n",
              "      <td>8000.00</td>\n",
              "    </tr>\n",
              "    <tr>\n",
              "      <th>320068</th>\n",
              "      <td>699996931</td>\n",
              "      <td>Make Music with Me!</td>\n",
              "      <td>Indie Rock</td>\n",
              "      <td>Music</td>\n",
              "      <td>USD</td>\n",
              "      <td>2014-06-05</td>\n",
              "      <td>6300.0</td>\n",
              "      <td>2014-05-06 14:46:46</td>\n",
              "      <td>7330.0</td>\n",
              "      <td>successful</td>\n",
              "      <td>92</td>\n",
              "      <td>US</td>\n",
              "      <td>7330.00</td>\n",
              "      <td>7330.00</td>\n",
              "      <td>6300.00</td>\n",
              "    </tr>\n",
              "  </tbody>\n",
              "</table>\n",
              "</div>"
            ],
            "text/plain": [
              "                ID  ... usd_goal_real\n",
              "364957   929396626  ...      12000.00\n",
              "279140   489835380  ...      20000.00\n",
              "148645  1755604739  ...        913.16\n",
              "345634   830671590  ...        908.80\n",
              "53174   1270767076  ...      15139.59\n",
              "214287  2091889772  ...       1500.00\n",
              "262914   407102716  ...       1500.00\n",
              "246914   325744857  ...       4500.00\n",
              "195244  1994209174  ...       8000.00\n",
              "320068   699996931  ...       6300.00\n",
              "\n",
              "[10 rows x 15 columns]"
            ]
          },
          "metadata": {
            "tags": []
          },
          "execution_count": 5
        }
      ]
    },
    {
      "cell_type": "markdown",
      "metadata": {
        "id": "tKZpUuXluKPJ",
        "colab_type": "text"
      },
      "source": [
        "## Step 2: Cleaning the data"
      ]
    },
    {
      "cell_type": "markdown",
      "metadata": {
        "id": "VtBwdlMNDJFl",
        "colab_type": "text"
      },
      "source": [
        "### Check data duplication"
      ]
    },
    {
      "cell_type": "code",
      "metadata": {
        "id": "VMdvUlQ0_fp2",
        "colab_type": "code",
        "outputId": "cd735000-578b-4ca6-e58c-044dc94829ef",
        "colab": {
          "base_uri": "https://localhost:8080/",
          "height": 35
        }
      },
      "source": [
        "# Check if ID column is unique\n",
        "# Your code here\n",
        "data['ID'].nunique() == data['ID'].count()"
      ],
      "execution_count": 0,
      "outputs": [
        {
          "output_type": "execute_result",
          "data": {
            "text/plain": [
              "True"
            ]
          },
          "metadata": {
            "tags": []
          },
          "execution_count": 6
        }
      ]
    },
    {
      "cell_type": "markdown",
      "metadata": {
        "id": "0n1JqTT-uqZg",
        "colab_type": "text"
      },
      "source": [
        "### Drop unnecessary columns \n",
        "- __ID__: This column is not very helpful\n",
        "- __currency__, __pledged__, __goal__ & __usd pledged__: We don't need these since we will be using __usd_pledged_real__ and __usd_goal_read__ columns"
      ]
    },
    {
      "cell_type": "code",
      "metadata": {
        "id": "NQCTIRtFyU26",
        "colab_type": "code",
        "colab": {}
      },
      "source": [
        "# Delete unnecessary columns \n",
        "# Your code here\n",
        "data.drop(columns = ['ID','currency','goal', 'pledged','usd pledged'], inplace = True)"
      ],
      "execution_count": 0,
      "outputs": []
    },
    {
      "cell_type": "markdown",
      "metadata": {
        "id": "Uc_JrvU7ENtV",
        "colab_type": "text"
      },
      "source": [
        "### Handle missing data"
      ]
    },
    {
      "cell_type": "code",
      "metadata": {
        "id": "y1H2dLeUDcAs",
        "colab_type": "code",
        "outputId": "3552d990-1182-4b47-b21f-394b72d4d041",
        "colab": {
          "base_uri": "https://localhost:8080/",
          "height": 208
        }
      },
      "source": [
        "# Check for missing data\n",
        "# Your code here\n",
        "data.isnull().sum()"
      ],
      "execution_count": 0,
      "outputs": [
        {
          "output_type": "execute_result",
          "data": {
            "text/plain": [
              "name                4\n",
              "category            0\n",
              "main_category       0\n",
              "deadline            0\n",
              "launched            0\n",
              "state               0\n",
              "backers             0\n",
              "country             0\n",
              "usd_pledged_real    0\n",
              "usd_goal_real       0\n",
              "dtype: int64"
            ]
          },
          "metadata": {
            "tags": []
          },
          "execution_count": 8
        }
      ]
    },
    {
      "cell_type": "code",
      "metadata": {
        "id": "YDRpp_qmEiaL",
        "colab_type": "code",
        "outputId": "e7dea2c0-295c-4da0-e79c-16ead81ec2fc",
        "colab": {
          "base_uri": "https://localhost:8080/",
          "height": 171
        }
      },
      "source": [
        "# Show the missing values in the data \n",
        "# Your code here\n",
        "data[data['name'].isnull()]"
      ],
      "execution_count": 0,
      "outputs": [
        {
          "output_type": "execute_result",
          "data": {
            "text/html": [
              "<div>\n",
              "<style scoped>\n",
              "    .dataframe tbody tr th:only-of-type {\n",
              "        vertical-align: middle;\n",
              "    }\n",
              "\n",
              "    .dataframe tbody tr th {\n",
              "        vertical-align: top;\n",
              "    }\n",
              "\n",
              "    .dataframe thead th {\n",
              "        text-align: right;\n",
              "    }\n",
              "</style>\n",
              "<table border=\"1\" class=\"dataframe\">\n",
              "  <thead>\n",
              "    <tr style=\"text-align: right;\">\n",
              "      <th></th>\n",
              "      <th>name</th>\n",
              "      <th>category</th>\n",
              "      <th>main_category</th>\n",
              "      <th>deadline</th>\n",
              "      <th>launched</th>\n",
              "      <th>state</th>\n",
              "      <th>backers</th>\n",
              "      <th>country</th>\n",
              "      <th>usd_pledged_real</th>\n",
              "      <th>usd_goal_real</th>\n",
              "    </tr>\n",
              "  </thead>\n",
              "  <tbody>\n",
              "    <tr>\n",
              "      <th>166851</th>\n",
              "      <td>NaN</td>\n",
              "      <td>Narrative Film</td>\n",
              "      <td>Film &amp; Video</td>\n",
              "      <td>2012-02-29</td>\n",
              "      <td>2012-01-01 12:35:31</td>\n",
              "      <td>failed</td>\n",
              "      <td>1</td>\n",
              "      <td>US</td>\n",
              "      <td>100.00</td>\n",
              "      <td>200000.00</td>\n",
              "    </tr>\n",
              "    <tr>\n",
              "      <th>307234</th>\n",
              "      <td>NaN</td>\n",
              "      <td>Video Games</td>\n",
              "      <td>Games</td>\n",
              "      <td>2013-01-06</td>\n",
              "      <td>2012-12-19 23:57:48</td>\n",
              "      <td>failed</td>\n",
              "      <td>12</td>\n",
              "      <td>GB</td>\n",
              "      <td>316.05</td>\n",
              "      <td>3224.97</td>\n",
              "    </tr>\n",
              "    <tr>\n",
              "      <th>309991</th>\n",
              "      <td>NaN</td>\n",
              "      <td>Product Design</td>\n",
              "      <td>Design</td>\n",
              "      <td>2016-07-18</td>\n",
              "      <td>2016-06-18 05:01:47</td>\n",
              "      <td>suspended</td>\n",
              "      <td>0</td>\n",
              "      <td>US</td>\n",
              "      <td>0.00</td>\n",
              "      <td>2500.00</td>\n",
              "    </tr>\n",
              "    <tr>\n",
              "      <th>338931</th>\n",
              "      <td>NaN</td>\n",
              "      <td>Painting</td>\n",
              "      <td>Art</td>\n",
              "      <td>2011-12-05</td>\n",
              "      <td>2011-11-06 23:55:55</td>\n",
              "      <td>failed</td>\n",
              "      <td>5</td>\n",
              "      <td>US</td>\n",
              "      <td>220.00</td>\n",
              "      <td>35000.00</td>\n",
              "    </tr>\n",
              "  </tbody>\n",
              "</table>\n",
              "</div>"
            ],
            "text/plain": [
              "       name        category  ... usd_pledged_real usd_goal_real\n",
              "166851  NaN  Narrative Film  ...           100.00     200000.00\n",
              "307234  NaN     Video Games  ...           316.05       3224.97\n",
              "309991  NaN  Product Design  ...             0.00       2500.00\n",
              "338931  NaN        Painting  ...           220.00      35000.00\n",
              "\n",
              "[4 rows x 10 columns]"
            ]
          },
          "metadata": {
            "tags": []
          },
          "execution_count": 9
        }
      ]
    },
    {
      "cell_type": "code",
      "metadata": {
        "id": "6r5nZDz2EmQu",
        "colab_type": "code",
        "colab": {}
      },
      "source": [
        "# Those missing values are in 'name' columns so it is safe to keep them\n",
        "# However, it will might be a better idea if we give them a name, instead of NaN\n",
        "# Your code here\n",
        "data['name'].fillna('Unnamed', inplace = True)"
      ],
      "execution_count": 0,
      "outputs": []
    },
    {
      "cell_type": "markdown",
      "metadata": {
        "id": "CsIEUkQqLTl7",
        "colab_type": "text"
      },
      "source": [
        "### Handle errors"
      ]
    },
    {
      "cell_type": "code",
      "metadata": {
        "id": "0ZKeMgvjJveM",
        "colab_type": "code",
        "outputId": "fe72b519-db72-4354-b30e-c5ce88826dfd",
        "colab": {
          "base_uri": "https://localhost:8080/",
          "height": 139
        }
      },
      "source": [
        "# Data with undefined state are error during data collection\n",
        "# Your code here\n",
        "data['state'].value_counts()"
      ],
      "execution_count": 0,
      "outputs": [
        {
          "output_type": "execute_result",
          "data": {
            "text/plain": [
              "failed        197719\n",
              "successful    133956\n",
              "canceled       38779\n",
              "undefined       3562\n",
              "live            2799\n",
              "suspended       1846\n",
              "Name: state, dtype: int64"
            ]
          },
          "metadata": {
            "tags": []
          },
          "execution_count": 11
        }
      ]
    },
    {
      "cell_type": "code",
      "metadata": {
        "id": "Z4L14uS7Mr-7",
        "colab_type": "code",
        "outputId": "36398af3-363e-4795-b619-6c0211f4d87f",
        "colab": {
          "base_uri": "https://localhost:8080/",
          "height": 546
        }
      },
      "source": [
        "# All of the projects with undefined states do not have any backer. Let's check that.\n",
        "# Your code here\n",
        "data[data['state'] == 'undefined'].sample(10)"
      ],
      "execution_count": 0,
      "outputs": [
        {
          "output_type": "execute_result",
          "data": {
            "text/html": [
              "<div>\n",
              "<style scoped>\n",
              "    .dataframe tbody tr th:only-of-type {\n",
              "        vertical-align: middle;\n",
              "    }\n",
              "\n",
              "    .dataframe tbody tr th {\n",
              "        vertical-align: top;\n",
              "    }\n",
              "\n",
              "    .dataframe thead th {\n",
              "        text-align: right;\n",
              "    }\n",
              "</style>\n",
              "<table border=\"1\" class=\"dataframe\">\n",
              "  <thead>\n",
              "    <tr style=\"text-align: right;\">\n",
              "      <th></th>\n",
              "      <th>name</th>\n",
              "      <th>category</th>\n",
              "      <th>main_category</th>\n",
              "      <th>deadline</th>\n",
              "      <th>launched</th>\n",
              "      <th>state</th>\n",
              "      <th>backers</th>\n",
              "      <th>country</th>\n",
              "      <th>usd_pledged_real</th>\n",
              "      <th>usd_goal_real</th>\n",
              "    </tr>\n",
              "  </thead>\n",
              "  <tbody>\n",
              "    <tr>\n",
              "      <th>222716</th>\n",
              "      <td>Life In the Big Easy- A boy's life in Northern...</td>\n",
              "      <td>Publishing</td>\n",
              "      <td>Publishing</td>\n",
              "      <td>2015-03-26</td>\n",
              "      <td>2015-02-24 03:25:09</td>\n",
              "      <td>undefined</td>\n",
              "      <td>0</td>\n",
              "      <td>N,0\"</td>\n",
              "      <td>0.00</td>\n",
              "      <td>7500.00</td>\n",
              "    </tr>\n",
              "    <tr>\n",
              "      <th>111409</th>\n",
              "      <td>Help Me Create an Unforgettable Full-Length Al...</td>\n",
              "      <td>Music</td>\n",
              "      <td>Music</td>\n",
              "      <td>2015-11-28</td>\n",
              "      <td>2015-11-03 16:20:37</td>\n",
              "      <td>undefined</td>\n",
              "      <td>0</td>\n",
              "      <td>N,0\"</td>\n",
              "      <td>5145.00</td>\n",
              "      <td>5000.00</td>\n",
              "    </tr>\n",
              "    <tr>\n",
              "      <th>268877</th>\n",
              "      <td>Pulse, Toronto Concerts 2015-2016</td>\n",
              "      <td>Music</td>\n",
              "      <td>Music</td>\n",
              "      <td>2015-10-01</td>\n",
              "      <td>2015-08-31 20:29:22</td>\n",
              "      <td>undefined</td>\n",
              "      <td>0</td>\n",
              "      <td>N,0\"</td>\n",
              "      <td>551.40</td>\n",
              "      <td>1744.84</td>\n",
              "    </tr>\n",
              "    <tr>\n",
              "      <th>26078</th>\n",
              "      <td>Chasing Tails - The Amberland Music Video</td>\n",
              "      <td>Music</td>\n",
              "      <td>Music</td>\n",
              "      <td>2014-12-22</td>\n",
              "      <td>2014-12-02 19:11:08</td>\n",
              "      <td>undefined</td>\n",
              "      <td>0</td>\n",
              "      <td>N,0\"</td>\n",
              "      <td>2431.37</td>\n",
              "      <td>2330.39</td>\n",
              "    </tr>\n",
              "    <tr>\n",
              "      <th>90555</th>\n",
              "      <td>Support Bristol Best's First Album &amp; Art</td>\n",
              "      <td>Music</td>\n",
              "      <td>Music</td>\n",
              "      <td>2015-11-27</td>\n",
              "      <td>2015-10-14 05:20:51</td>\n",
              "      <td>undefined</td>\n",
              "      <td>0</td>\n",
              "      <td>N,0\"</td>\n",
              "      <td>51.00</td>\n",
              "      <td>2200.00</td>\n",
              "    </tr>\n",
              "    <tr>\n",
              "      <th>221074</th>\n",
              "      <td>Of Winter Full Length</td>\n",
              "      <td>Music</td>\n",
              "      <td>Music</td>\n",
              "      <td>2014-12-22</td>\n",
              "      <td>2014-11-22 04:50:20</td>\n",
              "      <td>undefined</td>\n",
              "      <td>0</td>\n",
              "      <td>N,0\"</td>\n",
              "      <td>281.23</td>\n",
              "      <td>1035.20</td>\n",
              "    </tr>\n",
              "    <tr>\n",
              "      <th>268797</th>\n",
              "      <td>Oakapella (HS acappella choir) wants to make a...</td>\n",
              "      <td>Music</td>\n",
              "      <td>Music</td>\n",
              "      <td>2015-01-16</td>\n",
              "      <td>2014-12-17 00:06:06</td>\n",
              "      <td>undefined</td>\n",
              "      <td>0</td>\n",
              "      <td>N,0\"</td>\n",
              "      <td>1526.00</td>\n",
              "      <td>1500.00</td>\n",
              "    </tr>\n",
              "    <tr>\n",
              "      <th>227865</th>\n",
              "      <td>Tommy Proulx's Live Shows</td>\n",
              "      <td>Music</td>\n",
              "      <td>Music</td>\n",
              "      <td>2016-04-16</td>\n",
              "      <td>2016-03-15 23:06:56</td>\n",
              "      <td>undefined</td>\n",
              "      <td>0</td>\n",
              "      <td>N,0\"</td>\n",
              "      <td>6051.00</td>\n",
              "      <td>6000.00</td>\n",
              "    </tr>\n",
              "    <tr>\n",
              "      <th>292106</th>\n",
              "      <td>Going The Distance</td>\n",
              "      <td>Film &amp; Video</td>\n",
              "      <td>Film &amp; Video</td>\n",
              "      <td>2014-10-30</td>\n",
              "      <td>2014-09-30 01:16:32</td>\n",
              "      <td>undefined</td>\n",
              "      <td>0</td>\n",
              "      <td>N,0\"</td>\n",
              "      <td>325.00</td>\n",
              "      <td>4000.00</td>\n",
              "    </tr>\n",
              "    <tr>\n",
              "      <th>285586</th>\n",
              "      <td>Rocktavo Album 2015</td>\n",
              "      <td>Music</td>\n",
              "      <td>Music</td>\n",
              "      <td>2015-05-22</td>\n",
              "      <td>2015-04-21 20:17:14</td>\n",
              "      <td>undefined</td>\n",
              "      <td>0</td>\n",
              "      <td>N,0\"</td>\n",
              "      <td>4100.00</td>\n",
              "      <td>4000.00</td>\n",
              "    </tr>\n",
              "  </tbody>\n",
              "</table>\n",
              "</div>"
            ],
            "text/plain": [
              "                                                     name  ... usd_goal_real\n",
              "222716  Life In the Big Easy- A boy's life in Northern...  ...       7500.00\n",
              "111409  Help Me Create an Unforgettable Full-Length Al...  ...       5000.00\n",
              "268877                  Pulse, Toronto Concerts 2015-2016  ...       1744.84\n",
              "26078           Chasing Tails - The Amberland Music Video  ...       2330.39\n",
              "90555            Support Bristol Best's First Album & Art  ...       2200.00\n",
              "221074                              Of Winter Full Length  ...       1035.20\n",
              "268797  Oakapella (HS acappella choir) wants to make a...  ...       1500.00\n",
              "227865                          Tommy Proulx's Live Shows  ...       6000.00\n",
              "292106                                 Going The Distance  ...       4000.00\n",
              "285586                                Rocktavo Album 2015  ...       4000.00\n",
              "\n",
              "[10 rows x 10 columns]"
            ]
          },
          "metadata": {
            "tags": []
          },
          "execution_count": 12
        }
      ]
    },
    {
      "cell_type": "code",
      "metadata": {
        "id": "-GJscQ2AEPmb",
        "colab_type": "code",
        "colab": {}
      },
      "source": [
        "# Therefore it is safe to replace them with 'failed'\n",
        "# Your code here\n",
        "data['state'].replace(\"undefined\", \"failed\", inplace = True)"
      ],
      "execution_count": 0,
      "outputs": []
    },
    {
      "cell_type": "code",
      "metadata": {
        "id": "Hszo_7tiN7Tc",
        "colab_type": "code",
        "outputId": "d2caf636-44bf-4d04-f97d-7e25afe681d7",
        "colab": {
          "base_uri": "https://localhost:8080/",
          "height": 433
        }
      },
      "source": [
        "# We also have some problems in the country column\n",
        "# There is a weird value N,0\". This is also an error during collecting data\n",
        "# Your code here\n",
        "data['country'].value_counts()"
      ],
      "execution_count": 0,
      "outputs": [
        {
          "output_type": "execute_result",
          "data": {
            "text/plain": [
              "US      292627\n",
              "GB       33672\n",
              "CA       14756\n",
              "AU        7839\n",
              "DE        4171\n",
              "N,0\"      3797\n",
              "FR        2939\n",
              "IT        2878\n",
              "NL        2868\n",
              "ES        2276\n",
              "SE        1757\n",
              "MX        1752\n",
              "NZ        1447\n",
              "DK        1113\n",
              "IE         811\n",
              "CH         761\n",
              "NO         708\n",
              "HK         618\n",
              "BE         617\n",
              "AT         597\n",
              "SG         555\n",
              "LU          62\n",
              "JP          40\n",
              "Name: country, dtype: int64"
            ]
          },
          "metadata": {
            "tags": []
          },
          "execution_count": 14
        }
      ]
    },
    {
      "cell_type": "code",
      "metadata": {
        "id": "rfVicNf5N-BB",
        "colab_type": "code",
        "colab": {}
      },
      "source": [
        "# Let's drop these values\n",
        "# Your code here\n",
        "data = data[data['country'] != 'N,0\"']"
      ],
      "execution_count": 0,
      "outputs": []
    },
    {
      "cell_type": "markdown",
      "metadata": {
        "id": "H_qko4Kb7V5u",
        "colab_type": "text"
      },
      "source": [
        "### Handle Datetime columns\n",
        "You will need to research on your own"
      ]
    },
    {
      "cell_type": "code",
      "metadata": {
        "id": "Q8-ohxHl69XH",
        "colab_type": "code",
        "colab": {}
      },
      "source": [
        "# Convert deadline and launched columns to datetime dtype\n",
        "# Your code here\n",
        "data['deadline'] = pd.to_datetime(data['deadline'])\n",
        "data['launched'] = pd.to_datetime(data['launched'])"
      ],
      "execution_count": 0,
      "outputs": []
    },
    {
      "cell_type": "code",
      "metadata": {
        "id": "5G62W271PplO",
        "colab_type": "code",
        "colab": {}
      },
      "source": [
        "# Calculate the duration of the projects\n",
        "# Your code here\n",
        "data['duration'] = data['deadline'] - data['launched']"
      ],
      "execution_count": 0,
      "outputs": []
    },
    {
      "cell_type": "code",
      "metadata": {
        "id": "_ZMOe4nNufJj",
        "colab_type": "code",
        "outputId": "5815cb91-e7b8-4d52-945c-d68bc65c9bbf",
        "colab": {
          "base_uri": "https://localhost:8080/",
          "height": 35
        }
      },
      "source": [
        "# There are some projects with year = 1970, these are errors in data collection\n",
        "# First, let's create a new column with the year when the project was launched\n",
        "# Your code here\n",
        "data['launched_year'] = data['launched'].dt.year\n",
        "data['launched_year'].min()"
      ],
      "execution_count": 0,
      "outputs": [
        {
          "output_type": "execute_result",
          "data": {
            "text/plain": [
              "1970"
            ]
          },
          "metadata": {
            "tags": []
          },
          "execution_count": 18
        }
      ]
    },
    {
      "cell_type": "code",
      "metadata": {
        "id": "cHECOnT10Xjg",
        "colab_type": "code",
        "colab": {}
      },
      "source": [
        "# Drop values with year < 2008, which is when Kickstarter was found\n",
        "# Your code here\n",
        "data = data[data['launched_year'] >= 2008]"
      ],
      "execution_count": 0,
      "outputs": []
    },
    {
      "cell_type": "markdown",
      "metadata": {
        "id": "kQLH_JWCt-ND",
        "colab_type": "text"
      },
      "source": [
        "## Exploratory Data Analysis"
      ]
    },
    {
      "cell_type": "code",
      "metadata": {
        "id": "e9u2zSFdt84x",
        "colab_type": "code",
        "colab": {}
      },
      "source": [
        "top10_count = data['category'].value_counts().head(10)\n",
        "\n",
        "top10_data = data[data['category'].isin(top10_count.index)]\n",
        "\n",
        "top10_groupby = top10_data.groupby('category').sum().loc[top10_count.index]\n",
        "\n",
        "top10_groupby['avg_pledged'] = top10_groupby['usd_pledged_real'] / top10_groupby['backers']\n",
        "\n",
        "# Reverse the sorting order\n",
        "top10_count = top10_count[::-1]\n",
        "top10_groupby = top10_groupby[::-1]"
      ],
      "execution_count": 0,
      "outputs": []
    },
    {
      "cell_type": "code",
      "metadata": {
        "id": "XIjmXgx_upgF",
        "colab_type": "code",
        "outputId": "f4f04d87-6b9c-449e-abab-acbed0057220",
        "colab": {
          "base_uri": "https://localhost:8080/",
          "height": 370
        }
      },
      "source": [
        "# Plot\n",
        "fig, ax = plt.subplots(1, 3, figsize = (15,5))\n",
        "fig.suptitle(\"Top 10 Categories on Kickstarter\")\n",
        "\n",
        "# Top 10 Categories by number of projects\n",
        "ax[0].barh(top10_count.index, top10_count.values)\n",
        "ax[0].set(xlim = [min(top10_count.values)* 0.8, max(top10_count.values)* 1.1],\n",
        "          xlabel = 'Number of Projects',\n",
        "          ylabel = 'Category',\n",
        "          title = 'By Number of Projects')\n",
        "\n",
        "# Number of backers of top 10 categories\n",
        "ax[1].barh(top10_groupby.index, top10_groupby['backers'].values)\n",
        "ax[1].set(xlim = [min(top10_groupby['backers'].values)* 0.8, max(top10_groupby['backers'].values)* 1.1],\n",
        "          xlabel = 'Number of Backers',\n",
        "          ylabel = 'Category',\n",
        "          title = 'By Number of Backers')\n",
        "\n",
        "# Total Pledged of top 10 categories\n",
        "ax[2].barh(top10_groupby.index, top10_groupby['usd_pledged_real'].values)\n",
        "ax[2].set(xlim = [min(top10_groupby['usd_pledged_real'].values)* 0.8, max(top10_groupby['usd_pledged_real'].values)* 1.1],\n",
        "          xlabel = 'Total Pledge',\n",
        "          ylabel = 'Category',\n",
        "          title = 'By Total Pledge')\n",
        "\n",
        "# Adjust the space between subplots\n",
        "plt.subplots_adjust(wspace = 0.5)\n",
        "\n",
        "plt.show()"
      ],
      "execution_count": 0,
      "outputs": [
        {
          "output_type": "display_data",
          "data": {
            "image/png": "[encoded data removed]",
            "text/plain": [
              "<Figure size 1080x360 with 3 Axes>"
            ]
          },
          "metadata": {
            "tags": []
          }
        }
      ]
    },
    {
      "cell_type": "code",
      "metadata": {
        "id": "WXZrnUb_wBbl",
        "colab_type": "code",
        "colab": {}
      },
      "source": [
        "state_data = data[data['state'] != 'live']\n",
        "state_data['state_grouped'] = state_data['state'].apply(lambda x: x if x == 'successful' else 'failed')\n",
        "\n",
        "# Top 10 categories data\n",
        "top10_data = state_data[state_data['category'].isin(top10_count.index)]"
      ],
      "execution_count": 0,
      "outputs": []
    },
    {
      "cell_type": "code",
      "metadata": {
        "id": "iza5Brce0tc9",
        "colab_type": "code",
        "colab": {}
      },
      "source": [
        "# Plot\n",
        "plt.subplots(1, 2, figsize = (10,5))\n",
        "plt.suptitle(\"Success Rate of Projects of Kickstarter\")\n",
        "\n",
        "# Success Rate of Kickstarters Projects\n",
        "plt.subplot(121)\n",
        "plt.pie(state_count.values, \n",
        "        labels = state_count.index,\n",
        "        autopct='%1.1f%%')\n",
        "\n",
        "plt.title(\"Success Rate of Kickstarter Projects\")\n",
        "\n",
        "# Success Rate of Top 10 Projects\n",
        "plt.subplot(122)\n",
        "sns.countplot(y = 'category', \n",
        "              hue = 'state_grouped', \n",
        "              data = top10_data, \n",
        "              order = top10_count.index[::-1])\n",
        "\n",
        "plt.title(\"Success Rate of Top 10 Projects\")\n",
        "\n",
        "# Adjust the space between subplots\n",
        "plt.subplots_adjust(wspace = 0.5)\n",
        "\n",
        "plt.show()"
      ],
      "execution_count": 0,
      "outputs": []
    },
    {
      "cell_type": "code",
      "metadata": {
        "id": "IyWeaAhk0twz",
        "colab_type": "code",
        "colab": {}
      },
      "source": [
        "# Number of Projects in Top 5 Categories\n",
        "top5_categories = top10_count.index[5:][::-1]\n",
        "\n",
        "fig, ax = plt.subplots(1, 5, figsize = (20,3))\n",
        "fig.suptitle(\"Number of Projects in Top 5 Categories\")\n",
        "\n",
        "for ax_index, category in enumerate(top5_categories):\n",
        "\n",
        "  plot_data = data[(data['category'] == category) & (data['launched_year'] != 2018)].copy() # Exclude 2018 since it is incomplete\n",
        "  plot_count = plot_data['launched_year'].value_counts().sort_index(ascending = True)\n",
        "\n",
        "  ax[ax_index].plot(plot_count.index, plot_count.values)\n",
        "  ax[ax_index].set(ylim = [0, 5000], title = category)\n",
        "  \n",
        "# Adjust the space between subplots\n",
        "plt.subplots_adjust(wspace = 0.5, top = 0.8)\n",
        "\n",
        "plt.show()"
      ],
      "execution_count": 0,
      "outputs": []
    },
    {
      "cell_type": "code",
      "metadata": {
        "id": "wI_OHHYl4Q4_",
        "colab_type": "code",
        "colab": {}
      },
      "source": [
        "# No. of backers of Top 5 Categories\n",
        "METRIC = 'backers'\n",
        "top5_categories = top10_count.index[5:][::-1]\n",
        "\n",
        "fig, ax = plt.subplots(1, 5, figsize = (20,3))\n",
        "fig.suptitle(METRIC + ' of Top 5 Categories')\n",
        "\n",
        "for ax_index, category in enumerate(top5_categories):\n",
        "\n",
        "  plot_data = data[(data['category'] == category) & (data['launched_year'] != 2018)].copy() # Exclude 2018 since it is incomplete\n",
        "  plot_groupby = plot_data.groupby('launched_year').sum()\n",
        "\n",
        "  ax[ax_index].plot(plot_groupby.index, plot_groupby[METRIC].values)\n",
        "  ax[ax_index].set(ylim = [0,1700000], title = category)\n",
        "  \n",
        "# Adjust the space between subplots\n",
        "plt.subplots_adjust(wspace = 0.5, top = 0.8)\n",
        "\n",
        "plt.show()"
      ],
      "execution_count": 0,
      "outputs": []
    },
    {
      "cell_type": "code",
      "metadata": {
        "id": "ypkeVtu94pDn",
        "colab_type": "code",
        "colab": {}
      },
      "source": [
        "# No. of Backers of Top 5 Categories\n",
        "METRIC = 'usd_pledged_real'\n",
        "top5_categories = top10_count.index[5:][::-1]\n",
        "\n",
        "fig, ax = plt.subplots(1, 5, figsize = (20,3))\n",
        "fig.suptitle(METRIC + ' of Top 5 Categories')\n",
        "\n",
        "for ax_index, category in enumerate(top5_categories):\n",
        "\n",
        "  plot_data = data[(data['category'] == category) & (data['launched_year'] != 2018)].copy() # Exclude 2018 since it is incomplete\n",
        "  plot_groupby = plot_data.groupby('launched_year').sum()\n",
        "\n",
        "  ax[ax_index].plot(plot_groupby.index, plot_groupby[METRIC].values)\n",
        "  ax[ax_index].set(ylim = [0,170000000], title = category)\n",
        "  \n",
        "# Adjust the space between subplots\n",
        "plt.subplots_adjust(wspace = 0.5, top = 0.8)\n",
        "\n",
        "plt.show()"
      ],
      "execution_count": 0,
      "outputs": []
    },
    {
      "cell_type": "markdown",
      "metadata": {
        "id": "gLrnBdiz6YiV",
        "colab_type": "text"
      },
      "source": [
        "### What factors need to be considered to have successful projects?"
      ]
    },
    {
      "cell_type": "markdown",
      "metadata": {
        "id": "bqqDDWah6eMN",
        "colab_type": "text"
      },
      "source": [
        "__Month Launched__"
      ]
    },
    {
      "cell_type": "code",
      "metadata": {
        "id": "Xz6c_Ze_6jbE",
        "colab_type": "code",
        "colab": {}
      },
      "source": [
        "state_data['launched_month']= state_data['launched'].dt.month"
      ],
      "execution_count": 0,
      "outputs": []
    },
    {
      "cell_type": "code",
      "metadata": {
        "id": "QPVMaGX06kM_",
        "colab_type": "code",
        "colab": {}
      },
      "source": [
        "onehot_state = pd.get_dummies(state_data['state_grouped'], prefix='state')"
      ],
      "execution_count": 0,
      "outputs": []
    },
    {
      "cell_type": "code",
      "metadata": {
        "id": "-N7SgWE66wLT",
        "colab_type": "code",
        "colab": {}
      },
      "source": [
        "data_onehot = pd.concat([state_data, onehot_state], axis = 1)"
      ],
      "execution_count": 0,
      "outputs": []
    },
    {
      "cell_type": "code",
      "metadata": {
        "id": "Y6LT22Pw8iC9",
        "colab_type": "code",
        "colab": {}
      },
      "source": [
        "month_success = data_onehot.groupby('launched_month').sum()\n",
        "month_success['success_rate'] = month_success['state_successful'] / (month_success['state_successful'] + month_success['state_failed'])  * 100\n",
        "month_success = month_success[['success_rate']]"
      ],
      "execution_count": 0,
      "outputs": []
    },
    {
      "cell_type": "code",
      "metadata": {
        "id": "mBBBDNNv9J74",
        "colab_type": "code",
        "outputId": "2f33c8c5-a05b-470f-a38c-14b4643619fd",
        "colab": {
          "base_uri": "https://localhost:8080/",
          "height": 677
        }
      },
      "source": [
        "# Plot\n",
        "fig, ax = plt.subplots(2, 3, figsize = (15,10))\n",
        "fig.suptitle(\"Success Rate vs. Month\")\n",
        "\n",
        "# All Category\n",
        "month_success = data_onehot.groupby('launched_month').sum()\n",
        "month_count = data_onehot['launched_month'].value_counts().loc[month_success.index]\n",
        "month_success['success_rate'] = month_success['state_successful'] / (month_success['state_successful'] + month_success['state_failed']) * 100\n",
        "month_success = month_success[['success_rate']] \n",
        "\n",
        "# Success Rate\n",
        "\n",
        "\n",
        "ax[0, 0].bar(month_count.index, month_count.values,)\n",
        "ax[0, 0].set(xlabel = 'Month',\n",
        "             ylabel = 'Number of Projects',\n",
        "             xticks = month_success.index,\n",
        "             title = 'All Category')\n",
        "\n",
        "ax_twin = ax[0, 0].twinx() \n",
        "ax_twin.plot(month_success.index, month_success.values[:,-1], color = 'r')\n",
        "ax_twin.set_ylabel('Success Rate (%)', rotation = 270, va = 'bottom')\n",
        "ax_twin.set_ylim([30,60])\n",
        "ax_twin.grid(None)\n",
        "\n",
        "\n",
        "# Top 5 Category\n",
        "cat_index = 0\n",
        "\n",
        "for row in [0, 1]:\n",
        "  for col in [0, 1, 2]:\n",
        "    # Skip first ax\n",
        "    if row == col == 0:\n",
        "      pass\n",
        "    else: \n",
        "\n",
        "      # Generate data for the category\n",
        "      cat = top5_categories = top10_count.index[5:][::-1][cat_index]\n",
        "      month_success = data_onehot[data_onehot['category'] == cat].groupby('launched_month').sum()\n",
        "      month_count = data_onehot[data_onehot['category'] == cat]['launched_month'].value_counts().loc[month_success.index]\n",
        "      month_success['success_rate'] = month_success['state_successful'] / (month_success['state_successful'] + month_success['state_failed']) * 100\n",
        "      month_success = month_success[['success_rate']] \n",
        "\n",
        "      # Plot\n",
        "      ax[row, col].bar(month_count.index, month_count.values)\n",
        "      ax[row, col].set(ylim = [500,2500],\n",
        "                       xlabel = 'Month',\n",
        "                       ylabel = 'Number of Prohjects',\n",
        "                       xticks = month_success.index,\n",
        "                       title = cat)\n",
        "      \n",
        "      ax_twin = ax[row, col].twinx()\n",
        "\n",
        "      ax_twin.plot(month_success.index, month_success.values[:,-1], color = 'r')\n",
        "      ax_twin.set_ylabel('Success Rate (%)', rotation = 270, va = 'bottom')\n",
        "      ax_twin.set_ylim([30,60])\n",
        "      ax_twin.grid(None)\n",
        "      \n",
        "      # Move to next category\n",
        "      cat_index += 1\n",
        "\n",
        "plt.subplots_adjust(wspace = 0.5)\n",
        "\n",
        "plt.show()"
      ],
      "execution_count": 0,
      "outputs": [
        {
          "output_type": "display_data",
          "data": {
            "image/png": "[encoded data removed]",
            "text/plain": [
              "<Figure size 1080x720 with 12 Axes>"
            ]
          },
          "metadata": {
            "tags": []
          }
        }
      ]
    },
    {
      "cell_type": "code",
      "metadata": {
        "id": "zalxyxmJ9wRt",
        "colab_type": "code",
        "colab": {}
      },
      "source": [
        "data_onehot['duration'] = data_onehot['duration'] // np.timedelta64(1, 'M')"
      ],
      "execution_count": 0,
      "outputs": []
    },
    {
      "cell_type": "code",
      "metadata": {
        "id": "B4es7zajAYBP",
        "colab_type": "code",
        "outputId": "9ca499b0-4a81-4b0f-fc51-652022b11b00",
        "colab": {
          "base_uri": "https://localhost:8080/",
          "height": 677
        }
      },
      "source": [
        "# Plot\n",
        "fig, ax = plt.subplots(2, 3, figsize = (15,10))\n",
        "fig.suptitle(\"Success Rate vs. Duration\")\n",
        "\n",
        "# All Category\n",
        "duration_success = data_onehot.groupby('duration').sum()\n",
        "duration_count = data_onehot['duration'].value_counts().loc[duration_success.index]\n",
        "duration_success['success_rate'] = duration_success['state_successful'] / (duration_success['state_successful'] + duration_success['state_failed']) * 100\n",
        "duration_success = duration_success[['success_rate']] \n",
        "\n",
        "# Success Rate\n",
        "\n",
        "\n",
        "ax[0, 0].bar(duration_count.index, duration_count.values,)\n",
        "ax[0, 0].set(xlabel = 'Month',\n",
        "             ylabel = 'Number of Projects',\n",
        "             xticks = duration_success.index,\n",
        "             title = 'All Category')\n",
        "\n",
        "ax_twin = ax[0, 0].twinx() \n",
        "ax_twin.plot(duration_success.index, duration_success.values[:,-1], color = 'r')\n",
        "ax_twin.set_ylabel('Success Rate (%)', rotation = 270, va = 'bottom')\n",
        "ax_twin.set_ylim([0,70])\n",
        "ax_twin.grid(None)\n",
        "\n",
        "\n",
        "# Top 5 Category\n",
        "cat_index = 0\n",
        "\n",
        "for row in [0, 1]:\n",
        "  for col in [0, 1, 2]:\n",
        "    # Skip first ax\n",
        "    if row == col == 0:\n",
        "      pass\n",
        "    else: \n",
        "\n",
        "      # Generate data for the category\n",
        "      cat = top5_categories = top10_count.index[5:][::-1][cat_index]\n",
        "      duration_success = data_onehot[data_onehot['category'] == cat].groupby('duration').sum()\n",
        "      duration_count = data_onehot[data_onehot['category'] == cat]['duration'].value_counts().loc[duration_success.index]\n",
        "      duration_success['success_rate'] = duration_success['state_successful'] / (duration_success['state_successful'] + duration_success['state_failed']) * 100\n",
        "      duration_success = duration_success[['success_rate']] \n",
        "\n",
        "      # Plot\n",
        "      ax[row, col].bar(duration_count.index, duration_count.values)\n",
        "      ax[row, col].set(ylim=[0,13000],\n",
        "                       xlabel = 'Month',\n",
        "                       ylabel = 'Number of Prohjects',\n",
        "                       xticks = duration_success.index,\n",
        "                       title = cat)\n",
        "      \n",
        "      ax_twin = ax[row, col].twinx()\n",
        "      ax_twin.plot(duration_success.index, duration_success.values[:,-1], color = 'r')\n",
        "      ax_twin.set_ylabel('Success Rate (%)', rotation = 270, va = 'bottom')\n",
        "      ax_twin.set_ylim([0, 70])\n",
        "      ax_twin.grid(None)\n",
        "      \n",
        "      # Move to next category\n",
        "      cat_index += 1\n",
        "\n",
        "plt.subplots_adjust(wspace = 0.5)\n",
        "\n",
        "plt.show()"
      ],
      "execution_count": 0,
      "outputs": [
        {
          "output_type": "display_data",
          "data": {
            "image/png": "[encoded data removed]",
            "text/plain": [
              "<Figure size 1080x720 with 12 Axes>"
            ]
          },
          "metadata": {
            "tags": []
          }
        }
      ]
    },
    {
      "cell_type": "code",
      "metadata": {
        "id": "uNSr1EqU5tR6",
        "colab_type": "code",
        "colab": {}
      },
      "source": [
        "state_data['duration'] = state_data['duration'] // np.timedelta64(1, 'M')"
      ],
      "execution_count": 0,
      "outputs": []
    },
    {
      "cell_type": "code",
      "metadata": {
        "id": "daSf9ccdVINp",
        "colab_type": "code",
        "outputId": "3af2887f-a146-41f3-89b6-c02e3b8115b6",
        "colab": {
          "base_uri": "https://localhost:8080/",
          "height": 921
        }
      },
      "source": [
        "state_data"
      ],
      "execution_count": 0,
      "outputs": [
        {
          "output_type": "execute_result",
          "data": {
            "text/html": [
              "<div>\n",
              "<style scoped>\n",
              "    .dataframe tbody tr th:only-of-type {\n",
              "        vertical-align: middle;\n",
              "    }\n",
              "\n",
              "    .dataframe tbody tr th {\n",
              "        vertical-align: top;\n",
              "    }\n",
              "\n",
              "    .dataframe thead th {\n",
              "        text-align: right;\n",
              "    }\n",
              "</style>\n",
              "<table border=\"1\" class=\"dataframe\">\n",
              "  <thead>\n",
              "    <tr style=\"text-align: right;\">\n",
              "      <th></th>\n",
              "      <th>name</th>\n",
              "      <th>category</th>\n",
              "      <th>main_category</th>\n",
              "      <th>deadline</th>\n",
              "      <th>launched</th>\n",
              "      <th>state</th>\n",
              "      <th>backers</th>\n",
              "      <th>country</th>\n",
              "      <th>usd_pledged_real</th>\n",
              "      <th>usd_goal_real</th>\n",
              "      <th>duration</th>\n",
              "      <th>launched_year</th>\n",
              "      <th>launched_month</th>\n",
              "    </tr>\n",
              "  </thead>\n",
              "  <tbody>\n",
              "    <tr>\n",
              "      <th>0</th>\n",
              "      <td>The Songs of Adelaide &amp; Abullah</td>\n",
              "      <td>Poetry</td>\n",
              "      <td>Publishing</td>\n",
              "      <td>2015-10-09</td>\n",
              "      <td>2015-08-11 12:12:28</td>\n",
              "      <td>failed</td>\n",
              "      <td>0</td>\n",
              "      <td>GB</td>\n",
              "      <td>0.0</td>\n",
              "      <td>1533.95</td>\n",
              "      <td>0</td>\n",
              "      <td>2015</td>\n",
              "      <td>8</td>\n",
              "    </tr>\n",
              "    <tr>\n",
              "      <th>1</th>\n",
              "      <td>Greeting From Earth: ZGAC Arts Capsule For ET</td>\n",
              "      <td>Narrative Film</td>\n",
              "      <td>Film &amp; Video</td>\n",
              "      <td>2017-11-01</td>\n",
              "      <td>2017-09-02 04:43:57</td>\n",
              "      <td>failed</td>\n",
              "      <td>15</td>\n",
              "      <td>US</td>\n",
              "      <td>2421.0</td>\n",
              "      <td>30000.00</td>\n",
              "      <td>0</td>\n",
              "      <td>2017</td>\n",
              "      <td>9</td>\n",
              "    </tr>\n",
              "    <tr>\n",
              "      <th>2</th>\n",
              "      <td>Where is Hank?</td>\n",
              "      <td>Narrative Film</td>\n",
              "      <td>Film &amp; Video</td>\n",
              "      <td>2013-02-26</td>\n",
              "      <td>2013-01-12 00:20:50</td>\n",
              "      <td>failed</td>\n",
              "      <td>3</td>\n",
              "      <td>US</td>\n",
              "      <td>220.0</td>\n",
              "      <td>45000.00</td>\n",
              "      <td>0</td>\n",
              "      <td>2013</td>\n",
              "      <td>1</td>\n",
              "    </tr>\n",
              "    <tr>\n",
              "      <th>3</th>\n",
              "      <td>ToshiCapital Rekordz Needs Help to Complete Album</td>\n",
              "      <td>Music</td>\n",
              "      <td>Music</td>\n",
              "      <td>2012-04-16</td>\n",
              "      <td>2012-03-17 03:24:11</td>\n",
              "      <td>failed</td>\n",
              "      <td>1</td>\n",
              "      <td>US</td>\n",
              "      <td>1.0</td>\n",
              "      <td>5000.00</td>\n",
              "      <td>0</td>\n",
              "      <td>2012</td>\n",
              "      <td>3</td>\n",
              "    </tr>\n",
              "    <tr>\n",
              "      <th>4</th>\n",
              "      <td>Community Film Project: The Art of Neighborhoo...</td>\n",
              "      <td>Film &amp; Video</td>\n",
              "      <td>Film &amp; Video</td>\n",
              "      <td>2015-08-29</td>\n",
              "      <td>2015-07-04 08:35:03</td>\n",
              "      <td>canceled</td>\n",
              "      <td>14</td>\n",
              "      <td>US</td>\n",
              "      <td>1283.0</td>\n",
              "      <td>19500.00</td>\n",
              "      <td>0</td>\n",
              "      <td>2015</td>\n",
              "      <td>7</td>\n",
              "    </tr>\n",
              "    <tr>\n",
              "      <th>...</th>\n",
              "      <td>...</td>\n",
              "      <td>...</td>\n",
              "      <td>...</td>\n",
              "      <td>...</td>\n",
              "      <td>...</td>\n",
              "      <td>...</td>\n",
              "      <td>...</td>\n",
              "      <td>...</td>\n",
              "      <td>...</td>\n",
              "      <td>...</td>\n",
              "      <td>...</td>\n",
              "      <td>...</td>\n",
              "      <td>...</td>\n",
              "    </tr>\n",
              "    <tr>\n",
              "      <th>378656</th>\n",
              "      <td>ChknTruk Nationwide Charity Drive 2014 (Canceled)</td>\n",
              "      <td>Documentary</td>\n",
              "      <td>Film &amp; Video</td>\n",
              "      <td>2014-10-17</td>\n",
              "      <td>2014-09-17 02:35:30</td>\n",
              "      <td>canceled</td>\n",
              "      <td>1</td>\n",
              "      <td>US</td>\n",
              "      <td>25.0</td>\n",
              "      <td>50000.00</td>\n",
              "      <td>0</td>\n",
              "      <td>2014</td>\n",
              "      <td>9</td>\n",
              "    </tr>\n",
              "    <tr>\n",
              "      <th>378657</th>\n",
              "      <td>The Tribe</td>\n",
              "      <td>Narrative Film</td>\n",
              "      <td>Film &amp; Video</td>\n",
              "      <td>2011-07-19</td>\n",
              "      <td>2011-06-22 03:35:14</td>\n",
              "      <td>failed</td>\n",
              "      <td>5</td>\n",
              "      <td>US</td>\n",
              "      <td>155.0</td>\n",
              "      <td>1500.00</td>\n",
              "      <td>0</td>\n",
              "      <td>2011</td>\n",
              "      <td>6</td>\n",
              "    </tr>\n",
              "    <tr>\n",
              "      <th>378658</th>\n",
              "      <td>Walls of Remedy- New lesbian Romantic Comedy f...</td>\n",
              "      <td>Narrative Film</td>\n",
              "      <td>Film &amp; Video</td>\n",
              "      <td>2010-08-16</td>\n",
              "      <td>2010-07-01 19:40:30</td>\n",
              "      <td>failed</td>\n",
              "      <td>1</td>\n",
              "      <td>US</td>\n",
              "      <td>20.0</td>\n",
              "      <td>15000.00</td>\n",
              "      <td>0</td>\n",
              "      <td>2010</td>\n",
              "      <td>7</td>\n",
              "    </tr>\n",
              "    <tr>\n",
              "      <th>378659</th>\n",
              "      <td>BioDefense Education Kit</td>\n",
              "      <td>Technology</td>\n",
              "      <td>Technology</td>\n",
              "      <td>2016-02-13</td>\n",
              "      <td>2016-01-13 18:13:53</td>\n",
              "      <td>failed</td>\n",
              "      <td>6</td>\n",
              "      <td>US</td>\n",
              "      <td>200.0</td>\n",
              "      <td>15000.00</td>\n",
              "      <td>0</td>\n",
              "      <td>2016</td>\n",
              "      <td>1</td>\n",
              "    </tr>\n",
              "    <tr>\n",
              "      <th>378660</th>\n",
              "      <td>Nou Renmen Ayiti!  We Love Haiti!</td>\n",
              "      <td>Performance Art</td>\n",
              "      <td>Art</td>\n",
              "      <td>2011-08-16</td>\n",
              "      <td>2011-07-19 09:07:47</td>\n",
              "      <td>failed</td>\n",
              "      <td>17</td>\n",
              "      <td>US</td>\n",
              "      <td>524.0</td>\n",
              "      <td>2000.00</td>\n",
              "      <td>0</td>\n",
              "      <td>2011</td>\n",
              "      <td>7</td>\n",
              "    </tr>\n",
              "  </tbody>\n",
              "</table>\n",
              "<p>372059 rows × 13 columns</p>\n",
              "</div>"
            ],
            "text/plain": [
              "                                                     name  ... launched_month\n",
              "0                         The Songs of Adelaide & Abullah  ...              8\n",
              "1           Greeting From Earth: ZGAC Arts Capsule For ET  ...              9\n",
              "2                                          Where is Hank?  ...              1\n",
              "3       ToshiCapital Rekordz Needs Help to Complete Album  ...              3\n",
              "4       Community Film Project: The Art of Neighborhoo...  ...              7\n",
              "...                                                   ...  ...            ...\n",
              "378656  ChknTruk Nationwide Charity Drive 2014 (Canceled)  ...              9\n",
              "378657                                          The Tribe  ...              6\n",
              "378658  Walls of Remedy- New lesbian Romantic Comedy f...  ...              7\n",
              "378659                           BioDefense Education Kit  ...              1\n",
              "378660                  Nou Renmen Ayiti!  We Love Haiti!  ...              7\n",
              "\n",
              "[372059 rows x 13 columns]"
            ]
          },
          "metadata": {
            "tags": []
          },
          "execution_count": 36
        }
      ]
    },
    {
      "cell_type": "code",
      "metadata": {
        "id": "SBJ_4yMf2zu7",
        "colab_type": "code",
        "colab": {}
      },
      "source": [
        "state_data.to_csv('kickstarter.csv', index = False)"
      ],
      "execution_count": 0,
      "outputs": []
    },
    {
      "cell_type": "code",
      "metadata": {
        "id": "0WGhAKtR3Rz2",
        "colab_type": "code",
        "colab": {}
      },
      "source": [
        ""
      ],
      "execution_count": 0,
      "outputs": []
    }
  ]
}